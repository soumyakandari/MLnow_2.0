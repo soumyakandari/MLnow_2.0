{
  "nbformat": 4,
  "nbformat_minor": 0,
  "metadata": {
    "colab": {
      "name": "MLassignment1.ipynb",
      "provenance": [],
      "authorship_tag": "ABX9TyMki3AmHKCKs3YwBVcSZaAz",
      "include_colab_link": true
    },
    "kernelspec": {
      "name": "python3",
      "display_name": "Python 3"
    },
    "language_info": {
      "name": "python"
    }
  },
  "cells": [
    {
      "cell_type": "markdown",
      "metadata": {
        "id": "view-in-github",
        "colab_type": "text"
      },
      "source": [
        "<a href=\"https://colab.research.google.com/github/soumyakandari/MLnow_2.0/blob/main/MLassignment1.ipynb\" target=\"_parent\"><img src=\"https://colab.research.google.com/assets/colab-badge.svg\" alt=\"Open In Colab\"/></a>"
      ]
    },
    {
      "cell_type": "markdown",
      "metadata": {
        "id": "13vflbVFezwm"
      },
      "source": [
        "***Assignment no.1***\n",
        "\n",
        "\n",
        "[Link to Download the dataset](https://www.kaggle.com/sudalairajkumar/covid19-in-india?select=covid_vaccine_statewise.csv)\n",
        "\n",
        "Date Created: 13th June , 2021\n",
        "\n",
        "Topic: Univariate Linear Regression \n",
        "\n",
        "Author:\n",
        "Soumya Kandari\n",
        "\n",
        "[[Assessment Repository](https://github.com/soumyakandari/MLnow_2.0/)]"
      ]
    },
    {
      "cell_type": "markdown",
      "metadata": {
        "id": "kKmGyVAoimCB"
      },
      "source": [
        "# Set Up"
      ]
    },
    {
      "cell_type": "code",
      "metadata": {
        "colab": {
          "base_uri": "https://localhost:8080/"
        },
        "id": "dJzZZZ4PdShG",
        "outputId": "d712c0a0-fbdd-4f11-f276-56d5d9c2284b"
      },
      "source": [
        "from google.colab import drive\n",
        "drive.mount('/content/drive')"
      ],
      "execution_count": 2,
      "outputs": [
        {
          "output_type": "stream",
          "text": [
            "Mounted at /content/drive\n"
          ],
          "name": "stdout"
        }
      ]
    },
    {
      "cell_type": "code",
      "metadata": {
        "colab": {
          "base_uri": "https://localhost:8080/"
        },
        "id": "G1PvBZI1jSo_",
        "outputId": "688a59e0-c160-4c53-c3fb-9d28529d6bc5"
      },
      "source": [
        "cd '/content/drive/MyDrive/Colab Notebooks/02_EDA/covid_vaccination'"
      ],
      "execution_count": 4,
      "outputs": [
        {
          "output_type": "stream",
          "text": [
            "/content/drive/MyDrive/Colab Notebooks/02_EDA/covid_vaccination\n"
          ],
          "name": "stdout"
        }
      ]
    },
    {
      "cell_type": "code",
      "metadata": {
        "colab": {
          "base_uri": "https://localhost:8080/"
        },
        "id": "QltMN2yNkCm0",
        "outputId": "ebb37a58-f6af-4c5f-dd72-f247af857ae0"
      },
      "source": [
        "ls"
      ],
      "execution_count": 5,
      "outputs": [
        {
          "output_type": "stream",
          "text": [
            "covid_19_india.csv  covid_vaccine_statewise.csv  StatewiseTestingDetails.csv\n"
          ],
          "name": "stdout"
        }
      ]
    },
    {
      "cell_type": "code",
      "metadata": {
        "id": "y1vpKYzhkFze"
      },
      "source": [
        "import os"
      ],
      "execution_count": 7,
      "outputs": []
    },
    {
      "cell_type": "code",
      "metadata": {
        "id": "im0p8uFXkM78"
      },
      "source": [
        "import pandas as pd #working with csv or excel files\n",
        "import numpy as np #working with numbers/ arrays/ tensors\n",
        "import tensorflow as tf #framework\n",
        "from tensorflow import keras #API / library \n",
        "import os #using os commands between the python language"
      ],
      "execution_count": 8,
      "outputs": []
    },
    {
      "cell_type": "code",
      "metadata": {
        "id": "oq8lSxzQkR-n"
      },
      "source": [
        "#load the csv file as a dataframe\n",
        "\n",
        "mathData =pd.read_csv('covid_vaccine_statewise.csv')\n"
      ],
      "execution_count": 10,
      "outputs": []
    },
    {
      "cell_type": "code",
      "metadata": {
        "colab": {
          "base_uri": "https://localhost:8080/",
          "height": 578
        },
        "id": "sauM9Ne-ksdr",
        "outputId": "1ec88e37-064a-4526-e017-3faff7317dc7"
      },
      "source": [
        "mathData.tail(10)"
      ],
      "execution_count": 12,
      "outputs": [
        {
          "output_type": "execute_result",
          "data": {
            "text/html": [
              "<div>\n",
              "<style scoped>\n",
              "    .dataframe tbody tr th:only-of-type {\n",
              "        vertical-align: middle;\n",
              "    }\n",
              "\n",
              "    .dataframe tbody tr th {\n",
              "        vertical-align: top;\n",
              "    }\n",
              "\n",
              "    .dataframe thead th {\n",
              "        text-align: right;\n",
              "    }\n",
              "</style>\n",
              "<table border=\"1\" class=\"dataframe\">\n",
              "  <thead>\n",
              "    <tr style=\"text-align: right;\">\n",
              "      <th></th>\n",
              "      <th>Updated On</th>\n",
              "      <th>State</th>\n",
              "      <th>Total Individuals Vaccinated</th>\n",
              "      <th>Total Sessions Conducted</th>\n",
              "      <th>Total Sites</th>\n",
              "      <th>First Dose Administered</th>\n",
              "      <th>Second Dose Administered</th>\n",
              "      <th>Male(Individuals Vaccinated)</th>\n",
              "      <th>Female(Individuals Vaccinated)</th>\n",
              "      <th>Transgender(Individuals Vaccinated)</th>\n",
              "      <th>Total Covaxin Administered</th>\n",
              "      <th>Total CoviShield Administered</th>\n",
              "      <th>Total Sputnik V Administered</th>\n",
              "      <th>AEFI</th>\n",
              "      <th>18-45 years (Age)</th>\n",
              "      <th>45-60 years (Age)</th>\n",
              "      <th>60+ years (Age)</th>\n",
              "      <th>Total Doses Administered</th>\n",
              "    </tr>\n",
              "  </thead>\n",
              "  <tbody>\n",
              "    <tr>\n",
              "      <th>5318</th>\n",
              "      <td>30/05/2021</td>\n",
              "      <td>West Bengal</td>\n",
              "      <td>10547015.0</td>\n",
              "      <td>381157.0</td>\n",
              "      <td>1170.0</td>\n",
              "      <td>10547015.0</td>\n",
              "      <td>3865954.0</td>\n",
              "      <td>5871662.0</td>\n",
              "      <td>4674095.0</td>\n",
              "      <td>1258.0</td>\n",
              "      <td>1625834.0</td>\n",
              "      <td>12787135.0</td>\n",
              "      <td>0.0</td>\n",
              "      <td>1100.0</td>\n",
              "      <td>2202804.0</td>\n",
              "      <td>4404252.0</td>\n",
              "      <td>3938023.0</td>\n",
              "      <td>14412969.0</td>\n",
              "    </tr>\n",
              "    <tr>\n",
              "      <th>5319</th>\n",
              "      <td>31/05/2021</td>\n",
              "      <td>West Bengal</td>\n",
              "      <td>10838457.0</td>\n",
              "      <td>839415.0</td>\n",
              "      <td>2511.0</td>\n",
              "      <td>10838457.0</td>\n",
              "      <td>3879678.0</td>\n",
              "      <td>6050228.0</td>\n",
              "      <td>4786796.0</td>\n",
              "      <td>1433.0</td>\n",
              "      <td>1650999.0</td>\n",
              "      <td>13067136.0</td>\n",
              "      <td>0.0</td>\n",
              "      <td>1144.0</td>\n",
              "      <td>2402085.0</td>\n",
              "      <td>4469534.0</td>\n",
              "      <td>3964698.0</td>\n",
              "      <td>14718135.0</td>\n",
              "    </tr>\n",
              "    <tr>\n",
              "      <th>5320</th>\n",
              "      <td>01/06/2021</td>\n",
              "      <td>West Bengal</td>\n",
              "      <td>11075394.0</td>\n",
              "      <td>781523.0</td>\n",
              "      <td>2249.0</td>\n",
              "      <td>11075394.0</td>\n",
              "      <td>3893763.0</td>\n",
              "      <td>6194489.0</td>\n",
              "      <td>4879421.0</td>\n",
              "      <td>1484.0</td>\n",
              "      <td>1677903.0</td>\n",
              "      <td>13291254.0</td>\n",
              "      <td>0.0</td>\n",
              "      <td>1148.0</td>\n",
              "      <td>2552320.0</td>\n",
              "      <td>4530593.0</td>\n",
              "      <td>3990153.0</td>\n",
              "      <td>14969157.0</td>\n",
              "    </tr>\n",
              "    <tr>\n",
              "      <th>5321</th>\n",
              "      <td>02/06/2021</td>\n",
              "      <td>West Bengal</td>\n",
              "      <td>11283299.0</td>\n",
              "      <td>790334.0</td>\n",
              "      <td>1988.0</td>\n",
              "      <td>11283299.0</td>\n",
              "      <td>3903113.0</td>\n",
              "      <td>6317601.0</td>\n",
              "      <td>4964153.0</td>\n",
              "      <td>1545.0</td>\n",
              "      <td>1693274.0</td>\n",
              "      <td>13493138.0</td>\n",
              "      <td>0.0</td>\n",
              "      <td>1184.0</td>\n",
              "      <td>2659657.0</td>\n",
              "      <td>4602658.0</td>\n",
              "      <td>4018278.0</td>\n",
              "      <td>15186412.0</td>\n",
              "    </tr>\n",
              "    <tr>\n",
              "      <th>5322</th>\n",
              "      <td>03/06/2021</td>\n",
              "      <td>West Bengal</td>\n",
              "      <td>11514760.0</td>\n",
              "      <td>803979.0</td>\n",
              "      <td>2104.0</td>\n",
              "      <td>11514760.0</td>\n",
              "      <td>3915654.0</td>\n",
              "      <td>6452599.0</td>\n",
              "      <td>5060564.0</td>\n",
              "      <td>1597.0</td>\n",
              "      <td>1712330.0</td>\n",
              "      <td>13718084.0</td>\n",
              "      <td>0.0</td>\n",
              "      <td>1208.0</td>\n",
              "      <td>2762061.0</td>\n",
              "      <td>4691823.0</td>\n",
              "      <td>4057835.0</td>\n",
              "      <td>15430414.0</td>\n",
              "    </tr>\n",
              "    <tr>\n",
              "      <th>5323</th>\n",
              "      <td>04/06/2021</td>\n",
              "      <td>West Bengal</td>\n",
              "      <td>11795260.0</td>\n",
              "      <td>937852.0</td>\n",
              "      <td>2500.0</td>\n",
              "      <td>11795260.0</td>\n",
              "      <td>3931230.0</td>\n",
              "      <td>6615547.0</td>\n",
              "      <td>5178013.0</td>\n",
              "      <td>1700.0</td>\n",
              "      <td>1749972.0</td>\n",
              "      <td>13976518.0</td>\n",
              "      <td>0.0</td>\n",
              "      <td>1210.0</td>\n",
              "      <td>2874071.0</td>\n",
              "      <td>4810523.0</td>\n",
              "      <td>4107132.0</td>\n",
              "      <td>15726490.0</td>\n",
              "    </tr>\n",
              "    <tr>\n",
              "      <th>5324</th>\n",
              "      <td>05/06/2021</td>\n",
              "      <td>West Bengal</td>\n",
              "      <td>12090072.0</td>\n",
              "      <td>981547.0</td>\n",
              "      <td>2517.0</td>\n",
              "      <td>12090072.0</td>\n",
              "      <td>3941080.0</td>\n",
              "      <td>6784722.0</td>\n",
              "      <td>5303588.0</td>\n",
              "      <td>1762.0</td>\n",
              "      <td>1806377.0</td>\n",
              "      <td>14224775.0</td>\n",
              "      <td>0.0</td>\n",
              "      <td>1211.0</td>\n",
              "      <td>2999339.0</td>\n",
              "      <td>4927157.0</td>\n",
              "      <td>4159589.0</td>\n",
              "      <td>16031152.0</td>\n",
              "    </tr>\n",
              "    <tr>\n",
              "      <th>5325</th>\n",
              "      <td>06/06/2021</td>\n",
              "      <td>West Bengal</td>\n",
              "      <td>12206706.0</td>\n",
              "      <td>479793.0</td>\n",
              "      <td>1016.0</td>\n",
              "      <td>12206706.0</td>\n",
              "      <td>3943243.0</td>\n",
              "      <td>6851075.0</td>\n",
              "      <td>5353848.0</td>\n",
              "      <td>1783.0</td>\n",
              "      <td>1825771.0</td>\n",
              "      <td>14324178.0</td>\n",
              "      <td>0.0</td>\n",
              "      <td>1214.0</td>\n",
              "      <td>3058135.0</td>\n",
              "      <td>4968447.0</td>\n",
              "      <td>4175911.0</td>\n",
              "      <td>16149949.0</td>\n",
              "    </tr>\n",
              "    <tr>\n",
              "      <th>5326</th>\n",
              "      <td>07/06/2021</td>\n",
              "      <td>West Bengal</td>\n",
              "      <td>12492937.0</td>\n",
              "      <td>1062959.0</td>\n",
              "      <td>2523.0</td>\n",
              "      <td>12492937.0</td>\n",
              "      <td>3960942.0</td>\n",
              "      <td>7014307.0</td>\n",
              "      <td>5476794.0</td>\n",
              "      <td>1836.0</td>\n",
              "      <td>1878776.0</td>\n",
              "      <td>14575103.0</td>\n",
              "      <td>0.0</td>\n",
              "      <td>1223.0</td>\n",
              "      <td>3174029.0</td>\n",
              "      <td>5087762.0</td>\n",
              "      <td>4226545.0</td>\n",
              "      <td>16453879.0</td>\n",
              "    </tr>\n",
              "    <tr>\n",
              "      <th>5327</th>\n",
              "      <td>08/06/2021</td>\n",
              "      <td>West Bengal</td>\n",
              "      <td>NaN</td>\n",
              "      <td>NaN</td>\n",
              "      <td>NaN</td>\n",
              "      <td>NaN</td>\n",
              "      <td>NaN</td>\n",
              "      <td>NaN</td>\n",
              "      <td>NaN</td>\n",
              "      <td>NaN</td>\n",
              "      <td>NaN</td>\n",
              "      <td>NaN</td>\n",
              "      <td>NaN</td>\n",
              "      <td>NaN</td>\n",
              "      <td>NaN</td>\n",
              "      <td>NaN</td>\n",
              "      <td>NaN</td>\n",
              "      <td>0.0</td>\n",
              "    </tr>\n",
              "  </tbody>\n",
              "</table>\n",
              "</div>"
            ],
            "text/plain": [
              "      Updated On        State  ...  60+ years (Age)  Total Doses Administered\n",
              "5318  30/05/2021  West Bengal  ...        3938023.0                14412969.0\n",
              "5319  31/05/2021  West Bengal  ...        3964698.0                14718135.0\n",
              "5320  01/06/2021  West Bengal  ...        3990153.0                14969157.0\n",
              "5321  02/06/2021  West Bengal  ...        4018278.0                15186412.0\n",
              "5322  03/06/2021  West Bengal  ...        4057835.0                15430414.0\n",
              "5323  04/06/2021  West Bengal  ...        4107132.0                15726490.0\n",
              "5324  05/06/2021  West Bengal  ...        4159589.0                16031152.0\n",
              "5325  06/06/2021  West Bengal  ...        4175911.0                16149949.0\n",
              "5326  07/06/2021  West Bengal  ...        4226545.0                16453879.0\n",
              "5327  08/06/2021  West Bengal  ...              NaN                       0.0\n",
              "\n",
              "[10 rows x 18 columns]"
            ]
          },
          "metadata": {
            "tags": []
          },
          "execution_count": 12
        }
      ]
    },
    {
      "cell_type": "markdown",
      "metadata": {
        "id": "XEHx_5p02cfX"
      },
      "source": [
        "**Data Processing**"
      ]
    },
    {
      "cell_type": "code",
      "metadata": {
        "colab": {
          "base_uri": "https://localhost:8080/",
          "height": 189
        },
        "id": "SEG6fnfS2gHg",
        "outputId": "6f95fc26-e1d2-483b-f36d-1127f6e19c18"
      },
      "source": [
        "#consider the below columns from the dataframe\n",
        "\n",
        "\n",
        "mathData = mathData[['Total Individuals Vaccinated', 'First Dose Administered', 'Second Dose Administered', 'Total Covaxin Administered', 'Total CoviShield Administered', '18-45 years (Age)', '45-60 years (Age)', '60+ years (Age)', 'Total Doses Administered']]\n",
        "\n",
        "mathData.head(4)"
      ],
      "execution_count": 13,
      "outputs": [
        {
          "output_type": "execute_result",
          "data": {
            "text/html": [
              "<div>\n",
              "<style scoped>\n",
              "    .dataframe tbody tr th:only-of-type {\n",
              "        vertical-align: middle;\n",
              "    }\n",
              "\n",
              "    .dataframe tbody tr th {\n",
              "        vertical-align: top;\n",
              "    }\n",
              "\n",
              "    .dataframe thead th {\n",
              "        text-align: right;\n",
              "    }\n",
              "</style>\n",
              "<table border=\"1\" class=\"dataframe\">\n",
              "  <thead>\n",
              "    <tr style=\"text-align: right;\">\n",
              "      <th></th>\n",
              "      <th>Total Individuals Vaccinated</th>\n",
              "      <th>First Dose Administered</th>\n",
              "      <th>Second Dose Administered</th>\n",
              "      <th>Total Covaxin Administered</th>\n",
              "      <th>Total CoviShield Administered</th>\n",
              "      <th>18-45 years (Age)</th>\n",
              "      <th>45-60 years (Age)</th>\n",
              "      <th>60+ years (Age)</th>\n",
              "      <th>Total Doses Administered</th>\n",
              "    </tr>\n",
              "  </thead>\n",
              "  <tbody>\n",
              "    <tr>\n",
              "      <th>0</th>\n",
              "      <td>48276.0</td>\n",
              "      <td>48276.0</td>\n",
              "      <td>0.0</td>\n",
              "      <td>579.0</td>\n",
              "      <td>47697.0</td>\n",
              "      <td>NaN</td>\n",
              "      <td>NaN</td>\n",
              "      <td>NaN</td>\n",
              "      <td>48276.0</td>\n",
              "    </tr>\n",
              "    <tr>\n",
              "      <th>1</th>\n",
              "      <td>58604.0</td>\n",
              "      <td>58604.0</td>\n",
              "      <td>0.0</td>\n",
              "      <td>635.0</td>\n",
              "      <td>57969.0</td>\n",
              "      <td>NaN</td>\n",
              "      <td>NaN</td>\n",
              "      <td>NaN</td>\n",
              "      <td>58604.0</td>\n",
              "    </tr>\n",
              "    <tr>\n",
              "      <th>2</th>\n",
              "      <td>99449.0</td>\n",
              "      <td>99449.0</td>\n",
              "      <td>0.0</td>\n",
              "      <td>1299.0</td>\n",
              "      <td>98150.0</td>\n",
              "      <td>NaN</td>\n",
              "      <td>NaN</td>\n",
              "      <td>NaN</td>\n",
              "      <td>99449.0</td>\n",
              "    </tr>\n",
              "    <tr>\n",
              "      <th>3</th>\n",
              "      <td>195525.0</td>\n",
              "      <td>195525.0</td>\n",
              "      <td>0.0</td>\n",
              "      <td>3017.0</td>\n",
              "      <td>192508.0</td>\n",
              "      <td>NaN</td>\n",
              "      <td>NaN</td>\n",
              "      <td>NaN</td>\n",
              "      <td>195525.0</td>\n",
              "    </tr>\n",
              "  </tbody>\n",
              "</table>\n",
              "</div>"
            ],
            "text/plain": [
              "   Total Individuals Vaccinated  ...  Total Doses Administered\n",
              "0                       48276.0  ...                   48276.0\n",
              "1                       58604.0  ...                   58604.0\n",
              "2                       99449.0  ...                   99449.0\n",
              "3                      195525.0  ...                  195525.0\n",
              "\n",
              "[4 rows x 9 columns]"
            ]
          },
          "metadata": {
            "tags": []
          },
          "execution_count": 13
        }
      ]
    }
  ]
}