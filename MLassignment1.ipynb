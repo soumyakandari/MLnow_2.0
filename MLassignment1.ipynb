{
  "nbformat": 4,
  "nbformat_minor": 0,
  "metadata": {
    "colab": {
      "name": "MLassignment1.ipynb",
      "provenance": [],
      "authorship_tag": "ABX9TyPw4EcnJf3QPcrnw/RVeFhx",
      "include_colab_link": true
    },
    "kernelspec": {
      "name": "python3",
      "display_name": "Python 3"
    },
    "language_info": {
      "name": "python"
    }
  },
  "cells": [
    {
      "cell_type": "markdown",
      "metadata": {
        "id": "view-in-github",
        "colab_type": "text"
      },
      "source": [
        "<a href=\"https://colab.research.google.com/github/soumyakandari/MLnow_2.0/blob/main/MLassignment1.ipynb\" target=\"_parent\"><img src=\"https://colab.research.google.com/assets/colab-badge.svg\" alt=\"Open In Colab\"/></a>"
      ]
    },
    {
      "cell_type": "markdown",
      "metadata": {
        "id": "13vflbVFezwm"
      },
      "source": [
        "***Assignment no.1***\n",
        "\n",
        "\n",
        "[Link to Download the dataset](https://www.kaggle.com/sudalairajkumar/covid19-in-india?select=covid_vaccine_statewise.csv)\n",
        "\n",
        "Date Created: 13th June , 2021\n",
        "\n",
        "Topic: Univariate Linear Regression \n",
        "\n",
        "Author:\n",
        "Soumya Kandari\n",
        "\n",
        "[[Assessment Repository](https://github.com/soumyakandari/MLnow_2.0/)]"
      ]
    },
    {
      "cell_type": "markdown",
      "metadata": {
        "id": "kKmGyVAoimCB"
      },
      "source": [
        "# Set Up"
      ]
    },
    {
      "cell_type": "code",
      "metadata": {
        "colab": {
          "base_uri": "https://localhost:8080/"
        },
        "id": "dJzZZZ4PdShG",
        "outputId": "d712c0a0-fbdd-4f11-f276-56d5d9c2284b"
      },
      "source": [
        "from google.colab import drive\n",
        "drive.mount('/content/drive')"
      ],
      "execution_count": 2,
      "outputs": [
        {
          "output_type": "stream",
          "text": [
            "Mounted at /content/drive\n"
          ],
          "name": "stdout"
        }
      ]
    },
    {
      "cell_type": "code",
      "metadata": {
        "colab": {
          "base_uri": "https://localhost:8080/"
        },
        "id": "G1PvBZI1jSo_",
        "outputId": "688a59e0-c160-4c53-c3fb-9d28529d6bc5"
      },
      "source": [
        "cd '/content/drive/MyDrive/Colab Notebooks/02_EDA/covid_vaccination'"
      ],
      "execution_count": 4,
      "outputs": [
        {
          "output_type": "stream",
          "text": [
            "/content/drive/MyDrive/Colab Notebooks/02_EDA/covid_vaccination\n"
          ],
          "name": "stdout"
        }
      ]
    },
    {
      "cell_type": "code",
      "metadata": {
        "colab": {
          "base_uri": "https://localhost:8080/"
        },
        "id": "QltMN2yNkCm0",
        "outputId": "ebb37a58-f6af-4c5f-dd72-f247af857ae0"
      },
      "source": [
        "ls"
      ],
      "execution_count": 5,
      "outputs": [
        {
          "output_type": "stream",
          "text": [
            "covid_19_india.csv  covid_vaccine_statewise.csv  StatewiseTestingDetails.csv\n"
          ],
          "name": "stdout"
        }
      ]
    },
    {
      "cell_type": "code",
      "metadata": {
        "id": "y1vpKYzhkFze"
      },
      "source": [
        "import os"
      ],
      "execution_count": 7,
      "outputs": []
    },
    {
      "cell_type": "code",
      "metadata": {
        "id": "im0p8uFXkM78"
      },
      "source": [
        "import pandas as pd #working with csv or excel files\n",
        "import numpy as np #working with numbers/ arrays/ tensors\n",
        "import tensorflow as tf #framework\n",
        "from tensorflow import keras #API / library \n",
        "import os #using os commands between the python language"
      ],
      "execution_count": 8,
      "outputs": []
    },
    {
      "cell_type": "code",
      "metadata": {
        "id": "oq8lSxzQkR-n"
      },
      "source": [
        "#load the csv file as a dataframe\n",
        "\n",
        "mathData =pd.read_csv('covid_vaccine_statewise.csv')\n"
      ],
      "execution_count": 10,
      "outputs": []
    },
    {
      "cell_type": "code",
      "metadata": {
        "colab": {
          "base_uri": "https://localhost:8080/",
          "height": 410
        },
        "id": "sauM9Ne-ksdr",
        "outputId": "3870c6c1-f4dd-45e1-80d2-48aaec0e8802"
      },
      "source": [
        "mathData.head(10)"
      ],
      "execution_count": 11,
      "outputs": [
        {
          "output_type": "execute_result",
          "data": {
            "text/html": [
              "<div>\n",
              "<style scoped>\n",
              "    .dataframe tbody tr th:only-of-type {\n",
              "        vertical-align: middle;\n",
              "    }\n",
              "\n",
              "    .dataframe tbody tr th {\n",
              "        vertical-align: top;\n",
              "    }\n",
              "\n",
              "    .dataframe thead th {\n",
              "        text-align: right;\n",
              "    }\n",
              "</style>\n",
              "<table border=\"1\" class=\"dataframe\">\n",
              "  <thead>\n",
              "    <tr style=\"text-align: right;\">\n",
              "      <th></th>\n",
              "      <th>Updated On</th>\n",
              "      <th>State</th>\n",
              "      <th>Total Individuals Vaccinated</th>\n",
              "      <th>Total Sessions Conducted</th>\n",
              "      <th>Total Sites</th>\n",
              "      <th>First Dose Administered</th>\n",
              "      <th>Second Dose Administered</th>\n",
              "      <th>Male(Individuals Vaccinated)</th>\n",
              "      <th>Female(Individuals Vaccinated)</th>\n",
              "      <th>Transgender(Individuals Vaccinated)</th>\n",
              "      <th>Total Covaxin Administered</th>\n",
              "      <th>Total CoviShield Administered</th>\n",
              "      <th>Total Sputnik V Administered</th>\n",
              "      <th>AEFI</th>\n",
              "      <th>18-45 years (Age)</th>\n",
              "      <th>45-60 years (Age)</th>\n",
              "      <th>60+ years (Age)</th>\n",
              "      <th>Total Doses Administered</th>\n",
              "    </tr>\n",
              "  </thead>\n",
              "  <tbody>\n",
              "    <tr>\n",
              "      <th>0</th>\n",
              "      <td>16/01/2021</td>\n",
              "      <td>India</td>\n",
              "      <td>48276.0</td>\n",
              "      <td>3455.0</td>\n",
              "      <td>2957.0</td>\n",
              "      <td>48276.0</td>\n",
              "      <td>0.0</td>\n",
              "      <td>23757.0</td>\n",
              "      <td>24517.0</td>\n",
              "      <td>2.0</td>\n",
              "      <td>579.0</td>\n",
              "      <td>47697.0</td>\n",
              "      <td>NaN</td>\n",
              "      <td>NaN</td>\n",
              "      <td>NaN</td>\n",
              "      <td>NaN</td>\n",
              "      <td>NaN</td>\n",
              "      <td>48276.0</td>\n",
              "    </tr>\n",
              "    <tr>\n",
              "      <th>1</th>\n",
              "      <td>17/01/2021</td>\n",
              "      <td>India</td>\n",
              "      <td>58604.0</td>\n",
              "      <td>8532.0</td>\n",
              "      <td>4954.0</td>\n",
              "      <td>58604.0</td>\n",
              "      <td>0.0</td>\n",
              "      <td>27348.0</td>\n",
              "      <td>31252.0</td>\n",
              "      <td>4.0</td>\n",
              "      <td>635.0</td>\n",
              "      <td>57969.0</td>\n",
              "      <td>NaN</td>\n",
              "      <td>NaN</td>\n",
              "      <td>NaN</td>\n",
              "      <td>NaN</td>\n",
              "      <td>NaN</td>\n",
              "      <td>58604.0</td>\n",
              "    </tr>\n",
              "    <tr>\n",
              "      <th>2</th>\n",
              "      <td>18/01/2021</td>\n",
              "      <td>India</td>\n",
              "      <td>99449.0</td>\n",
              "      <td>13611.0</td>\n",
              "      <td>6583.0</td>\n",
              "      <td>99449.0</td>\n",
              "      <td>0.0</td>\n",
              "      <td>41361.0</td>\n",
              "      <td>58083.0</td>\n",
              "      <td>5.0</td>\n",
              "      <td>1299.0</td>\n",
              "      <td>98150.0</td>\n",
              "      <td>NaN</td>\n",
              "      <td>NaN</td>\n",
              "      <td>NaN</td>\n",
              "      <td>NaN</td>\n",
              "      <td>NaN</td>\n",
              "      <td>99449.0</td>\n",
              "    </tr>\n",
              "    <tr>\n",
              "      <th>3</th>\n",
              "      <td>19/01/2021</td>\n",
              "      <td>India</td>\n",
              "      <td>195525.0</td>\n",
              "      <td>17855.0</td>\n",
              "      <td>7951.0</td>\n",
              "      <td>195525.0</td>\n",
              "      <td>0.0</td>\n",
              "      <td>81901.0</td>\n",
              "      <td>113613.0</td>\n",
              "      <td>11.0</td>\n",
              "      <td>3017.0</td>\n",
              "      <td>192508.0</td>\n",
              "      <td>NaN</td>\n",
              "      <td>NaN</td>\n",
              "      <td>NaN</td>\n",
              "      <td>NaN</td>\n",
              "      <td>NaN</td>\n",
              "      <td>195525.0</td>\n",
              "    </tr>\n",
              "    <tr>\n",
              "      <th>4</th>\n",
              "      <td>20/01/2021</td>\n",
              "      <td>India</td>\n",
              "      <td>251280.0</td>\n",
              "      <td>25472.0</td>\n",
              "      <td>10504.0</td>\n",
              "      <td>251280.0</td>\n",
              "      <td>0.0</td>\n",
              "      <td>98111.0</td>\n",
              "      <td>153145.0</td>\n",
              "      <td>24.0</td>\n",
              "      <td>3946.0</td>\n",
              "      <td>247334.0</td>\n",
              "      <td>NaN</td>\n",
              "      <td>NaN</td>\n",
              "      <td>NaN</td>\n",
              "      <td>NaN</td>\n",
              "      <td>NaN</td>\n",
              "      <td>251280.0</td>\n",
              "    </tr>\n",
              "    <tr>\n",
              "      <th>5</th>\n",
              "      <td>21/01/2021</td>\n",
              "      <td>India</td>\n",
              "      <td>365965.0</td>\n",
              "      <td>32226.0</td>\n",
              "      <td>12600.0</td>\n",
              "      <td>365965.0</td>\n",
              "      <td>0.0</td>\n",
              "      <td>132784.0</td>\n",
              "      <td>233143.0</td>\n",
              "      <td>38.0</td>\n",
              "      <td>5367.0</td>\n",
              "      <td>360598.0</td>\n",
              "      <td>NaN</td>\n",
              "      <td>NaN</td>\n",
              "      <td>NaN</td>\n",
              "      <td>NaN</td>\n",
              "      <td>NaN</td>\n",
              "      <td>365965.0</td>\n",
              "    </tr>\n",
              "    <tr>\n",
              "      <th>6</th>\n",
              "      <td>22/01/2021</td>\n",
              "      <td>India</td>\n",
              "      <td>549381.0</td>\n",
              "      <td>36988.0</td>\n",
              "      <td>14115.0</td>\n",
              "      <td>549381.0</td>\n",
              "      <td>0.0</td>\n",
              "      <td>193899.0</td>\n",
              "      <td>355402.0</td>\n",
              "      <td>80.0</td>\n",
              "      <td>8128.0</td>\n",
              "      <td>541253.0</td>\n",
              "      <td>NaN</td>\n",
              "      <td>NaN</td>\n",
              "      <td>NaN</td>\n",
              "      <td>NaN</td>\n",
              "      <td>NaN</td>\n",
              "      <td>549381.0</td>\n",
              "    </tr>\n",
              "    <tr>\n",
              "      <th>7</th>\n",
              "      <td>23/01/2021</td>\n",
              "      <td>India</td>\n",
              "      <td>759008.0</td>\n",
              "      <td>43076.0</td>\n",
              "      <td>15605.0</td>\n",
              "      <td>759008.0</td>\n",
              "      <td>0.0</td>\n",
              "      <td>267856.0</td>\n",
              "      <td>491049.0</td>\n",
              "      <td>103.0</td>\n",
              "      <td>11192.0</td>\n",
              "      <td>747816.0</td>\n",
              "      <td>NaN</td>\n",
              "      <td>NaN</td>\n",
              "      <td>NaN</td>\n",
              "      <td>NaN</td>\n",
              "      <td>NaN</td>\n",
              "      <td>759008.0</td>\n",
              "    </tr>\n",
              "    <tr>\n",
              "      <th>8</th>\n",
              "      <td>24/01/2021</td>\n",
              "      <td>India</td>\n",
              "      <td>835058.0</td>\n",
              "      <td>49851.0</td>\n",
              "      <td>18111.0</td>\n",
              "      <td>835058.0</td>\n",
              "      <td>0.0</td>\n",
              "      <td>296283.0</td>\n",
              "      <td>538647.0</td>\n",
              "      <td>128.0</td>\n",
              "      <td>13156.0</td>\n",
              "      <td>821902.0</td>\n",
              "      <td>NaN</td>\n",
              "      <td>NaN</td>\n",
              "      <td>NaN</td>\n",
              "      <td>NaN</td>\n",
              "      <td>NaN</td>\n",
              "      <td>835058.0</td>\n",
              "    </tr>\n",
              "    <tr>\n",
              "      <th>9</th>\n",
              "      <td>25/01/2021</td>\n",
              "      <td>India</td>\n",
              "      <td>1277104.0</td>\n",
              "      <td>55151.0</td>\n",
              "      <td>19682.0</td>\n",
              "      <td>1277104.0</td>\n",
              "      <td>0.0</td>\n",
              "      <td>444137.0</td>\n",
              "      <td>832766.0</td>\n",
              "      <td>201.0</td>\n",
              "      <td>18858.0</td>\n",
              "      <td>1258246.0</td>\n",
              "      <td>NaN</td>\n",
              "      <td>NaN</td>\n",
              "      <td>NaN</td>\n",
              "      <td>NaN</td>\n",
              "      <td>NaN</td>\n",
              "      <td>1277104.0</td>\n",
              "    </tr>\n",
              "  </tbody>\n",
              "</table>\n",
              "</div>"
            ],
            "text/plain": [
              "   Updated On  State  ...  60+ years (Age)  Total Doses Administered\n",
              "0  16/01/2021  India  ...              NaN                   48276.0\n",
              "1  17/01/2021  India  ...              NaN                   58604.0\n",
              "2  18/01/2021  India  ...              NaN                   99449.0\n",
              "3  19/01/2021  India  ...              NaN                  195525.0\n",
              "4  20/01/2021  India  ...              NaN                  251280.0\n",
              "5  21/01/2021  India  ...              NaN                  365965.0\n",
              "6  22/01/2021  India  ...              NaN                  549381.0\n",
              "7  23/01/2021  India  ...              NaN                  759008.0\n",
              "8  24/01/2021  India  ...              NaN                  835058.0\n",
              "9  25/01/2021  India  ...              NaN                 1277104.0\n",
              "\n",
              "[10 rows x 18 columns]"
            ]
          },
          "metadata": {
            "tags": []
          },
          "execution_count": 11
        }
      ]
    }
  ]
}